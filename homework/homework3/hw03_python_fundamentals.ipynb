{
 "cells": [
  {
   "cell_type": "code",
   "execution_count": 6,
   "id": "a62cea6b-5897-4e28-a2a4-b17af104eef0",
   "metadata": {},
   "outputs": [
    {
     "name": "stdout",
     "output_type": "stream",
     "text": [
      "Loop time: 0.4751s, Vectorized time: 0.0068s\n",
      "<class 'pandas.core.frame.DataFrame'>\n",
      "RangeIndex: 10 entries, 0 to 9\n",
      "Data columns (total 3 columns):\n",
      " #   Column    Non-Null Count  Dtype \n",
      "---  ------    --------------  ----- \n",
      " 0   category  10 non-null     object\n",
      " 1   value     10 non-null     int64 \n",
      " 2   date      10 non-null     object\n",
      "dtypes: int64(1), object(2)\n",
      "memory usage: 368.0+ bytes\n",
      "None\n",
      "  category  value        date\n",
      "0        A     10  2025-08-01\n",
      "1        B     15  2025-08-02\n",
      "2        A     12  2025-08-03\n",
      "3        B     18  2025-08-04\n",
      "4        C     25  2025-08-05\n",
      "Summary saved to data\\processed\\summary.csv\n",
      "Plot saved to data\\processed\\summary_plot.png\n"
     ]
    },
    {
     "data": {
      "image/png": "[encoded data removed]",
      "text/plain": [
       "<Figure size 800x600 with 1 Axes>"
      ]
     },
     "metadata": {},
     "output_type": "display_data"
    }
   ],
   "source": [
    "import os\n",
    "from pathlib import Path\n",
    "import time\n",
    "import numpy as np\n",
    "import pandas as pd\n",
    "import matplotlib.pyplot as plt"
   ]
  },
  {
   "cell_type": "code",
   "execution_count": null,
   "id": "5fc7a55b-1fa9-400d-abda-0104c375b95c",
   "metadata": {},
   "outputs": [],
   "source": [
    "def numpy_demo():\n",
    "    n = 1_000_000\n",
    "    arr1 = np.arange(n)\n",
    "    arr2 = np.arange(n)\n",
    "\n",
    "    # loop version\n",
    "    t0 = time.time()\n",
    "    loop_sum = [arr1[i] + arr2[i] for i in range(n)]\n",
    "    loop_time = time.time() - t0\n",
    "\n",
    "    # vectorized version\n",
    "    t0 = time.time()\n",
    "    vec_sum = arr1 + arr2\n",
    "    vec_time = time.time() - t0\n",
    "\n",
    "    print(f\"Loop time: {loop_time:.4f}s, Vectorized time: {vec_time:.4f}s\")\n",
    "    return loop_sum, vec_sum"
   ]
  },
  {
   "cell_type": "code",
   "execution_count": null,
   "id": "f594cd52-d832-4061-8cd8-244eb309647d",
   "metadata": {},
   "outputs": [],
   "source": [
    "def load_data(file_path=\"data/starter_data.csv\"):\n",
    "    df = pd.read_csv(file_path)\n",
    "    print(df.info())\n",
    "    print(df.head())\n",
    "    return df"
   ]
  },
  {
   "cell_type": "code",
   "execution_count": null,
   "id": "f42ed838-dcf6-4ba8-ba04-a170f36ded5a",
   "metadata": {},
   "outputs": [],
   "source": [
    "def get_summary_stats(df, group_col=None, out_dir=\"data/processed\"):\n",
    "    \"\"\"Generate summary stats and save as CSV + JSON\"\"\"\n",
    "    Path(out_dir).mkdir(parents=True, exist_ok=True)\n",
    "\n",
    "    summary = df.describe(include=\"all\")\n",
    "\n",
    "    if group_col and group_col in df.columns:\n",
    "        grouped = df.groupby(group_col).mean(numeric_only=True)\n",
    "    else:\n",
    "        grouped = None\n",
    "\n",
    "    # save summary\n",
    "    summary_file = Path(out_dir) / \"summary.csv\"\n",
    "    summary.to_csv(summary_file)\n",
    "    summary.to_json(Path(out_dir) / \"summary.json\", indent=2)\n",
    "\n",
    "    print(f\"Summary saved to {summary_file}\")\n",
    "\n",
    "    # Bonus: plot\n",
    "    num_cols = df.select_dtypes(include=\"number\").columns\n",
    "    if len(num_cols) > 0:\n",
    "        df[num_cols].hist(figsize=(8, 6))\n",
    "        plt.tight_layout()\n",
    "        plot_file = Path(out_dir) / \"summary_plot.png\"\n",
    "        plt.savefig(plot_file)\n",
    "        print(f\"Plot saved to {plot_file}\")\n",
    "\n",
    "    return summary, grouped"
   ]
  },
  {
   "cell_type": "code",
   "execution_count": null,
   "id": "06097424-723f-4668-98b7-13742f89449d",
   "metadata": {},
   "outputs": [],
   "source": [
    "if __name__ == \"__main__\":\n",
    "    # 1. numpy demo\n",
    "    numpy_demo()\n",
    "\n",
    "    # 2. load dataset\n",
    "    df = load_data(\"starter_data.csv\")\n",
    "\n",
    "    # 3. get summary + save\n",
    "    summary, grouped = get_summary_stats(df, group_col=df.columns[0])\n",
    "\n",
    "    # Bonus: move get_summary_stats to src/utils.py later for reuse"
   ]
  }
 ],
 "metadata": {
  "kernelspec": {
   "display_name": "Python 3 (ipykernel)",
   "language": "python",
   "name": "python3"
  },
  "language_info": {
   "codemirror_mode": {
    "name": "ipython",
    "version": 3
   },
   "file_extension": ".py",
   "mimetype": "text/x-python",
   "name": "python",
   "nbconvert_exporter": "python",
   "pygments_lexer": "ipython3",
   "version": "3.10.18"
  }
 },
 "nbformat": 4,
 "nbformat_minor": 5
}
