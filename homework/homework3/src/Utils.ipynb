{
 "cells": [
  {
   "cell_type": "code",
   "execution_count": 1,
   "id": "3f8ccc39-859e-4b6b-b31e-36a8c5938be9",
   "metadata": {},
   "outputs": [],
   "source": [
    "import pandas as pd\n",
    "from pathlib import Path\n",
    "\n",
    "def get_summary_stats(df, group_col=None, out_dir=\"data/processed\"):\n",
    "    Path(out_dir).mkdir(parents=True, exist_ok=True)\n",
    "\n",
    "    summary = df.describe(include=\"all\")\n",
    "    if group_col and group_col in df.columns:\n",
    "        grouped = df.groupby(group_col).mean(numeric_only=True)\n",
    "    else:\n",
    "        grouped = None\n",
    "\n",
    "    summary.to_csv(Path(out_dir) / \"summary.csv\")\n",
    "    summary.to_json(Path(out_dir) / \"summary.json\", indent=2)\n",
    "    return summary, grouped"
   ]
  }
 ],
 "metadata": {
  "kernelspec": {
   "display_name": "Python 3 (ipykernel)",
   "language": "python",
   "name": "python3"
  },
  "language_info": {
   "codemirror_mode": {
    "name": "ipython",
    "version": 3
   },
   "file_extension": ".py",
   "mimetype": "text/x-python",
   "name": "python",
   "nbconvert_exporter": "python",
   "pygments_lexer": "ipython3",
   "version": "3.10.18"
  }
 },
 "nbformat": 4,
 "nbformat_minor": 5
}
