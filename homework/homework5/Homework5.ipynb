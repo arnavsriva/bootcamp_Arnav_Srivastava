{
 "cells": [
  {
   "cell_type": "code",
   "execution_count": 3,
   "id": "ac0fa9df-b0a2-4377-91b0-ff157feb687e",
   "metadata": {},
   "outputs": [],
   "source": [
    "import os\n",
    "import pandas as pd\n",
    "from dotenv import load_dotenv\n",
    "import pandas as pd"
   ]
  },
  {
   "cell_type": "code",
   "execution_count": 4,
   "id": "393665e3-93ba-4769-aeda-47db21ac7979",
   "metadata": {},
   "outputs": [
    {
     "name": "stdout",
     "output_type": "stream",
     "text": [
      "Data saved to: data/raw\\sample_data.csv (CSV)\n",
      "Data saved to: data/processed\\sample_data.parquet (Parquet)\n"
     ]
    },
    {
     "data": {
      "text/html": [
       "<div>\n",
       "<style scoped>\n",
       "    .dataframe tbody tr th:only-of-type {\n",
       "        vertical-align: middle;\n",
       "    }\n",
       "\n",
       "    .dataframe tbody tr th {\n",
       "        vertical-align: top;\n",
       "    }\n",
       "\n",
       "    .dataframe thead th {\n",
       "        text-align: right;\n",
       "    }\n",
       "</style>\n",
       "<table border=\"1\" class=\"dataframe\">\n",
       "  <thead>\n",
       "    <tr style=\"text-align: right;\">\n",
       "      <th></th>\n",
       "      <th>id</th>\n",
       "      <th>name</th>\n",
       "      <th>score</th>\n",
       "    </tr>\n",
       "  </thead>\n",
       "  <tbody>\n",
       "    <tr>\n",
       "      <th>0</th>\n",
       "      <td>1</td>\n",
       "      <td>Alice</td>\n",
       "      <td>85.5</td>\n",
       "    </tr>\n",
       "    <tr>\n",
       "      <th>1</th>\n",
       "      <td>2</td>\n",
       "      <td>Bob</td>\n",
       "      <td>90.2</td>\n",
       "    </tr>\n",
       "    <tr>\n",
       "      <th>2</th>\n",
       "      <td>3</td>\n",
       "      <td>Charlie</td>\n",
       "      <td>78.9</td>\n",
       "    </tr>\n",
       "    <tr>\n",
       "      <th>3</th>\n",
       "      <td>4</td>\n",
       "      <td>David</td>\n",
       "      <td>88.0</td>\n",
       "    </tr>\n",
       "    <tr>\n",
       "      <th>4</th>\n",
       "      <td>5</td>\n",
       "      <td>Eva</td>\n",
       "      <td>92.3</td>\n",
       "    </tr>\n",
       "  </tbody>\n",
       "</table>\n",
       "</div>"
      ],
      "text/plain": [
       "   id     name  score\n",
       "0   1    Alice   85.5\n",
       "1   2      Bob   90.2\n",
       "2   3  Charlie   78.9\n",
       "3   4    David   88.0\n",
       "4   5      Eva   92.3"
      ]
     },
     "execution_count": 4,
     "metadata": {},
     "output_type": "execute_result"
    }
   ],
   "source": [
    "load_dotenv()\n",
    "\n",
    "DATA_DIR_RAW = os.getenv(\"DATA_DIR_RAW\", \"data/raw\")\n",
    "DATA_DIR_PROCESSED = os.getenv(\"DATA_DIR_PROCESSED\", \"data/processed\")\n",
    "\n",
    "os.makedirs(DATA_DIR_RAW, exist_ok=True)\n",
    "os.makedirs(DATA_DIR_PROCESSED, exist_ok=True)\n",
    "\n",
    "data = {\n",
    "    \"id\": [1, 2, 3, 4, 5],\n",
    "    \"name\": [\"Alice\", \"Bob\", \"Charlie\", \"David\", \"Eva\"],\n",
    "    \"score\": [85.5, 90.2, 78.9, 88.0, 92.3]\n",
    "}\n",
    "\n",
    "df = pd.DataFrame(data)\n",
    "\n",
    "csv_path = os.path.join(DATA_DIR_RAW, \"sample_data.csv\")\n",
    "df.to_csv(csv_path, index=False)\n",
    "\n",
    "parquet_path = os.path.join(DATA_DIR_PROCESSED, \"sample_data.parquet\")\n",
    "df.to_parquet(parquet_path, index=False)\n",
    "\n",
    "print(f\"Data saved to: {csv_path} (CSV)\")\n",
    "print(f\"Data saved to: {parquet_path} (Parquet)\")\n",
    "\n",
    "df.head()"
   ]
  },
  {
   "cell_type": "code",
   "execution_count": 5,
   "id": "faa0f68f-f97e-49ae-a7b2-d35cb2838393",
   "metadata": {},
   "outputs": [],
   "source": [
    "df_csv = pd.read_csv(csv_path)\n",
    "df_parquet = pd.read_parquet(parquet_path)"
   ]
  },
  {
   "cell_type": "code",
   "execution_count": 8,
   "id": "b1cd07d1-bf82-4bc9-99be-941f67185508",
   "metadata": {},
   "outputs": [],
   "source": [
    "def validate_frames(a, b, expected_dtypes):\n",
    "    results = {}\n",
    "    results[\"shape_match\"] = a.shape == b.shape\n",
    "    results[\"rows\"] = a.shape[0]\n",
    "    results[\"cols\"] = a.shape[1]\n",
    "    dtype_ok = {}\n",
    "    for col, dt in expected_dtypes.items():\n",
    "        dtype_ok[col] = (str(a[col].dtype) == dt) and (str(b[col].dtype) == dt)\n",
    "    results[\"dtype_checks\"] = dtype_ok\n",
    "    return results"
   ]
  },
  {
   "cell_type": "code",
   "execution_count": 9,
   "id": "9807d735-e6a7-451e-a895-a40d98ba7fe6",
   "metadata": {},
   "outputs": [],
   "source": [
    "expected = {\"id\": \"int64\", \"name\": \"object\", \"score\": \"float64\"}\n",
    "val = validate_frames(df_csv, df_parquet, expected)"
   ]
  },
  {
   "cell_type": "code",
   "execution_count": 11,
   "id": "dfc51048-f57d-41ea-969e-e46e1bbdb416",
   "metadata": {},
   "outputs": [
    {
     "name": "stdout",
     "output_type": "stream",
     "text": [
      "CSV shape: (5, 3)\n",
      "Parquet shape: (5, 3)\n",
      "Shapes match: True\n",
      "Dtype checks:\n",
      " id: True (csv=int64, parquet=int64)\n",
      " name: True (csv=object, parquet=object)\n",
      " score: True (csv=float64, parquet=float64)\n"
     ]
    },
    {
     "data": {
      "text/html": [
       "<div>\n",
       "<style scoped>\n",
       "    .dataframe tbody tr th:only-of-type {\n",
       "        vertical-align: middle;\n",
       "    }\n",
       "\n",
       "    .dataframe tbody tr th {\n",
       "        vertical-align: top;\n",
       "    }\n",
       "\n",
       "    .dataframe thead th {\n",
       "        text-align: right;\n",
       "    }\n",
       "</style>\n",
       "<table border=\"1\" class=\"dataframe\">\n",
       "  <thead>\n",
       "    <tr style=\"text-align: right;\">\n",
       "      <th></th>\n",
       "      <th>id</th>\n",
       "      <th>name</th>\n",
       "      <th>score</th>\n",
       "    </tr>\n",
       "  </thead>\n",
       "  <tbody>\n",
       "    <tr>\n",
       "      <th>0</th>\n",
       "      <td>1</td>\n",
       "      <td>Alice</td>\n",
       "      <td>85.5</td>\n",
       "    </tr>\n",
       "    <tr>\n",
       "      <th>1</th>\n",
       "      <td>2</td>\n",
       "      <td>Bob</td>\n",
       "      <td>90.2</td>\n",
       "    </tr>\n",
       "    <tr>\n",
       "      <th>2</th>\n",
       "      <td>3</td>\n",
       "      <td>Charlie</td>\n",
       "      <td>78.9</td>\n",
       "    </tr>\n",
       "    <tr>\n",
       "      <th>3</th>\n",
       "      <td>4</td>\n",
       "      <td>David</td>\n",
       "      <td>88.0</td>\n",
       "    </tr>\n",
       "    <tr>\n",
       "      <th>4</th>\n",
       "      <td>5</td>\n",
       "      <td>Eva</td>\n",
       "      <td>92.3</td>\n",
       "    </tr>\n",
       "  </tbody>\n",
       "</table>\n",
       "</div>"
      ],
      "text/plain": [
       "   id     name  score\n",
       "0   1    Alice   85.5\n",
       "1   2      Bob   90.2\n",
       "2   3  Charlie   78.9\n",
       "3   4    David   88.0\n",
       "4   5      Eva   92.3"
      ]
     },
     "execution_count": 11,
     "metadata": {},
     "output_type": "execute_result"
    }
   ],
   "source": [
    "print(\"CSV shape:\", df_csv.shape)\n",
    "print(\"Parquet shape:\", df_parquet.shape)\n",
    "print(\"Shapes match:\", val[\"shape_match\"])\n",
    "print(\"Dtype checks:\")\n",
    "for k, v in val[\"dtype_checks\"].items():\n",
    "    print(f\" {k}: {v} (csv={df_csv[k].dtype}, parquet={df_parquet[k].dtype})\")\n",
    "\n",
    "\n",
    "df_csv.head()"
   ]
  },
  {
   "cell_type": "code",
   "execution_count": 12,
   "id": "fce343b1-9a09-4938-a332-acc9a51f98b6",
   "metadata": {},
   "outputs": [],
   "source": [
    "def write_df(df, path):\n",
    "    os.makedirs(os.path.dirname(path), exist_ok=True)\n",
    "    ext = os.path.splitext(path)[1].lower()\n",
    "    if ext == \".csv\":\n",
    "        df.to_csv(path, index=False)\n",
    "    elif ext == \".parquet\":\n",
    "        try:\n",
    "            df.to_parquet(path, index=False)\n",
    "        except ImportError:\n",
    "            print(\"Parquet support is missing. Please install pyarrow or fastparquet.\")\n",
    "    else:\n",
    "        print(f\"Unsupported file extension: {ext}\")"
   ]
  },
  {
   "cell_type": "code",
   "execution_count": 13,
   "id": "08ad5d18-2143-4705-b437-9ab496ed40eb",
   "metadata": {},
   "outputs": [],
   "source": [
    "def read_df(path):\n",
    "    if not os.path.exists(path):\n",
    "        print(f\"File not found: {path}\")\n",
    "        return None\n",
    "    ext = os.path.splitext(path)[1].lower()\n",
    "    if ext == \".csv\":\n",
    "        return pd.read_csv(path)\n",
    "    elif ext == \".parquet\":\n",
    "        try:\n",
    "            return pd.read_parquet(path)\n",
    "        except ImportError:\n",
    "            print(\"Parquet support is missing. Please install pyarrow or fastparquet.\")\n",
    "        return None\n",
    "    else:\n",
    "        print(f\"Unsupported file extension: {ext}\")\n",
    "        return None"
   ]
  },
  {
   "cell_type": "code",
   "execution_count": 14,
   "id": "63162478-e394-4e2a-9eb9-b2f0d8dd2432",
   "metadata": {},
   "outputs": [
    {
     "name": "stdout",
     "output_type": "stream",
     "text": [
      "Reload test CSV:\n",
      "   id     name  score\n",
      "0   1    Alice   85.5\n",
      "1   2      Bob   90.2\n",
      "2   3  Charlie   78.9\n",
      "3   4    David   88.0\n",
      "4   5      Eva   92.3\n",
      "Reload test Parquet:\n",
      "   id     name  score\n",
      "0   1    Alice   85.5\n",
      "1   2      Bob   90.2\n",
      "2   3  Charlie   78.9\n",
      "3   4    David   88.0\n",
      "4   5      Eva   92.3\n"
     ]
    }
   ],
   "source": [
    "write_test_csv = os.path.join(DATA_DIR_RAW, \"test_out.csv\")\n",
    "write_test_parquet = os.path.join(DATA_DIR_PROCESSED, \"test_out.parquet\")\n",
    "\n",
    "\n",
    "write_df(df, write_test_csv)\n",
    "write_df(df, write_test_parquet)\n",
    "\n",
    "\n",
    "print(\"Reload test CSV:\")\n",
    "print(read_df(write_test_csv).head())\n",
    "\n",
    "\n",
    "print(\"Reload test Parquet:\")\n",
    "print(read_df(write_test_parquet).head())"
   ]
  }
 ],
 "metadata": {
  "kernelspec": {
   "display_name": "Python 3 (ipykernel)",
   "language": "python",
   "name": "python3"
  },
  "language_info": {
   "codemirror_mode": {
    "name": "ipython",
    "version": 3
   },
   "file_extension": ".py",
   "mimetype": "text/x-python",
   "name": "python",
   "nbconvert_exporter": "python",
   "pygments_lexer": "ipython3",
   "version": "3.10.18"
  }
 },
 "nbformat": 4,
 "nbformat_minor": 5
}
