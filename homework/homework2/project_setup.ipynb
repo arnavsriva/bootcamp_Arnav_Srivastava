{
 "cells": [
  {
   "cell_type": "markdown",
   "id": "4932b5a4",
   "metadata": {},
   "source": [
    "# Environment & Config Quick Check\n",
    "\n",
    "This notebook does the below points:\n",
    "- Try imports (with friendly error)\n",
    "- Load `.env`\n",
    "- Show `PROJECT_ROOT` and `DATA_DIR`\n",
    "- Confirm `API_KEY` presence and ensure data dir exists\n",
    "- Small NumPy test\n"
   ]
  },
  {
   "cell_type": "code",
   "execution_count": 1,
   "id": "3630201f",
   "metadata": {},
   "outputs": [
    {
     "name": "stdout",
     "output_type": "stream",
     "text": [
      "Imports OK\n"
     ]
    }
   ],
   "source": [
    "try:\n",
    "    import sys, os\n",
    "    from pathlib import Path\n",
    "    import numpy as np\n",
    "    from dotenv import load_dotenv\n",
    "    # Optional: use src.config if available\n",
    "    try:\n",
    "        from src.config import get_key as _get_key\n",
    "        HAVE_SRC_CONFIG = True\n",
    "    except Exception:\n",
    "        HAVE_SRC_CONFIG = False\n",
    "    print(\"Imports OK\")\n",
    "except Exception as e:\n",
    "    print(\"Import error:\", e)\n",
    "    raise"
   ]
  },
  {
   "cell_type": "code",
   "execution_count": 2,
   "id": "8c1b12ff",
   "metadata": {},
   "outputs": [
    {
     "name": "stdout",
     "output_type": "stream",
     "text": [
      ".env loaded (if present)\n"
     ]
    }
   ],
   "source": [
    "# find & load .env\n",
    "load_dotenv()\n",
    "print(\".env loaded (if present)\")"
   ]
  },
  {
   "cell_type": "code",
   "execution_count": 3,
   "id": "efe8770b",
   "metadata": {},
   "outputs": [
    {
     "name": "stdout",
     "output_type": "stream",
     "text": [
      "PROJECT_ROOT: C:\\Users\\arnav\n",
      "DATA_DIR (default): C:\\Users\\arnav\\data\n"
     ]
    }
   ],
   "source": [
    "PROJECT_ROOT = Path.cwd()\n",
    "DATA_DIR_DEFAULT = PROJECT_ROOT / \"data\"\n",
    "print(\"PROJECT_ROOT:\", PROJECT_ROOT)\n",
    "print(\"DATA_DIR (default):\", DATA_DIR_DEFAULT)"
   ]
  },
  {
   "cell_type": "code",
   "execution_count": 4,
   "id": "3d905d3c",
   "metadata": {},
   "outputs": [
    {
     "name": "stdout",
     "output_type": "stream",
     "text": [
      "API_KEY present: False\n",
      "DATA_DIR from env or default: C:\\Users\\arnav\\data\n",
      "Ensured data directory exists.\n"
     ]
    }
   ],
   "source": [
    "# Resolve keys — prefer src.config if present, fallback to os.getenv\n",
    "def get_key(name, default=None):\n",
    "    if 'HAVE_SRC_CONFIG' in globals() and HAVE_SRC_CONFIG:\n",
    "        try:\n",
    "            return _get_key(name, default)\n",
    "        except Exception:\n",
    "            pass\n",
    "    return os.getenv(name, default)\n",
    "\n",
    "api_key = get_key('API_KEY')\n",
    "data_dir = get_key('DATA_DIR', str(DATA_DIR_DEFAULT))\n",
    "print(\"API_KEY present:\", bool(api_key))\n",
    "print(\"DATA_DIR from env or default:\", data_dir)\n",
    "\n",
    "# Ensure data directory exists\n",
    "Path(data_dir).mkdir(parents=True, exist_ok=True)\n",
    "print(\"Ensured data directory exists.\")"
   ]
  },
  {
   "cell_type": "code",
   "execution_count": 5,
   "id": "b99bb0d6",
   "metadata": {},
   "outputs": [
    {
     "name": "stdout",
     "output_type": "stream",
     "text": [
      "a + b = [5 7 9]\n",
      "a dot b = 32\n"
     ]
    }
   ],
   "source": [
    "# Small NumPy test\n",
    "a = np.array([1, 2, 3])\n",
    "b = np.array([4, 5, 6])\n",
    "print('a + b =', a + b)\n",
    "print('a dot b =', a @ b)"
   ]
  },
  {
   "cell_type": "markdown",
   "id": "2a70ed32",
   "metadata": {},
   "source": [
    "### Notes\n",
    "- Create a `.env` file with at least:\n",
    "  ```\n",
    "  API_KEY=dummy_key_123\n",
    "  DATA_DIR=./data\n",
    "  ```\n",
    "- If `src/config.py` implements `get_key(name, default=None)`, it will be used automatically.\n",
    "- Keep this notebook runnable top-to-bottom.\n"
   ]
  }
 ],
 "metadata": {
  "kernelspec": {
   "display_name": "Python 3 (ipykernel)",
   "language": "python",
   "name": "python3"
  },
  "language_info": {
   "codemirror_mode": {
    "name": "ipython",
    "version": 3
   },
   "file_extension": ".py",
   "mimetype": "text/x-python",
   "name": "python",
   "nbconvert_exporter": "python",
   "pygments_lexer": "ipython3",
   "version": "3.10.18"
  }
 },
 "nbformat": 4,
 "nbformat_minor": 5
}
